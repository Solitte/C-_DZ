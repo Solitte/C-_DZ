{
  "nbformat": 4,
  "nbformat_minor": 0,
  "metadata": {
    "colab": {
      "provenance": [],
      "gpuType": "T4",
      "include_colab_link": true
    },
    "kernelspec": {
      "display_name": "Python 3",
      "name": "python3"
    },
    "language_info": {
      "codemirror_mode": {
        "name": "ipython",
        "version": 3
      },
      "file_extension": ".py",
      "mimetype": "text/x-python",
      "name": "python",
      "nbconvert_exporter": "python",
      "pygments_lexer": "ipython3",
      "version": "3.7.7"
    },
    "accelerator": "GPU"
  },
  "cells": [
    {
      "cell_type": "markdown",
      "metadata": {
        "id": "view-in-github",
        "colab_type": "text"
      },
      "source": [
        "<a href=\"https://colab.research.google.com/github/Solitte/C-_DZ/blob/main/DZ3.ipynb\" target=\"_parent\"><img src=\"https://colab.research.google.com/assets/colab-badge.svg\" alt=\"Open In Colab\"/></a>"
      ]
    },
    {
      "cell_type": "markdown",
      "source": [
        "1. Попробуйте улучшить работу нейронной сети (разобранную на уроке), обучавшейся на датасет Fashion-MNIST. Напишите в комментариях к уроку, какого результата вы добились от нейросети и что помогло улучшить её точность.\n",
        "2. Попробуйте найти полезные команды TensorFlow, неразобранные на уроке"
      ],
      "metadata": {
        "id": "lEqoFtjkDiyu"
      }
    },
    {
      "cell_type": "code",
      "source": [
        "pip install -U keras-tuner"
      ],
      "metadata": {
        "id": "1GvsEQ_eEk0S",
        "colab": {
          "base_uri": "https://localhost:8080/"
        },
        "outputId": "a90cb387-f011-4a65-a0c9-0b7c33f0b6af"
      },
      "execution_count": 68,
      "outputs": [
        {
          "output_type": "stream",
          "name": "stdout",
          "text": [
            "Requirement already satisfied: keras-tuner in /usr/local/lib/python3.10/dist-packages (1.4.7)\n",
            "Requirement already satisfied: keras in /usr/local/lib/python3.10/dist-packages (from keras-tuner) (2.15.0)\n",
            "Requirement already satisfied: packaging in /usr/local/lib/python3.10/dist-packages (from keras-tuner) (23.2)\n",
            "Requirement already satisfied: requests in /usr/local/lib/python3.10/dist-packages (from keras-tuner) (2.31.0)\n",
            "Requirement already satisfied: kt-legacy in /usr/local/lib/python3.10/dist-packages (from keras-tuner) (1.0.5)\n",
            "Requirement already satisfied: charset-normalizer<4,>=2 in /usr/local/lib/python3.10/dist-packages (from requests->keras-tuner) (3.3.2)\n",
            "Requirement already satisfied: idna<4,>=2.5 in /usr/local/lib/python3.10/dist-packages (from requests->keras-tuner) (3.6)\n",
            "Requirement already satisfied: urllib3<3,>=1.21.1 in /usr/local/lib/python3.10/dist-packages (from requests->keras-tuner) (2.0.7)\n",
            "Requirement already satisfied: certifi>=2017.4.17 in /usr/local/lib/python3.10/dist-packages (from requests->keras-tuner) (2024.2.2)\n"
          ]
        }
      ]
    },
    {
      "cell_type": "markdown",
      "source": [
        "План по улучшению:\n",
        " - Составить несколько моделей с разными параметрами;\n",
        " - Поискать оптимальные варианты;\n",
        " - Применить несколько разных оптимайзеров;\n",
        " - Применить callback;\n",
        " - Сделать сборку предсказаний из нескольких моделей (Идея обучить одну из моделей на обратном векторе);"
      ],
      "metadata": {
        "id": "9Csocstn8NN6"
      }
    },
    {
      "cell_type": "code",
      "source": [
        "# from __future__ import absolute_import,division, print_function, unicode_literals\n",
        "\n",
        "#TensorFlow and tf.keras\n",
        "import tensorflow as tf\n",
        "tf.random.set_seed(5)\n",
        "from tensorflow import keras\n",
        "from tensorflow.keras.models import Sequential\n",
        "from tensorflow.keras import callbacks\n",
        "from tensorflow.keras.utils import to_categorical, to_ordinal\n",
        "from tensorflow.keras.models import load_model\n",
        "\n",
        "\n",
        "import matplotlib.pyplot as plt\n",
        "%matplotlib inline\n",
        "from kerastuner.tuners import RandomSearch, Hyperband, BayesianOptimization\n",
        "from sklearn.metrics import confusion_matrix, precision_score, recall_score, ConfusionMatrixDisplay, accuracy_score\n",
        "\n",
        "from tensorflow.keras.datasets import fashion_mnist\n",
        "from tensorflow.keras.models import Sequential\n",
        "from tensorflow.keras.layers import Dense\n",
        "from tensorflow.keras import utils\n",
        "from google.colab import files\n",
        "from kerastuner.tuners import RandomSearch, Hyperband, BayesianOptimization\n",
        "import numpy as np\n",
        "%tensorflow_version 2.x\n",
        "\n",
        "print(tf.__version__)"
      ],
      "metadata": {
        "id": "7Kbg0P0Q_qbY",
        "colab": {
          "base_uri": "https://localhost:8080/"
        },
        "outputId": "46293e7b-4004-4250-8b1d-72fe810d5932"
      },
      "execution_count": 69,
      "outputs": [
        {
          "output_type": "stream",
          "name": "stdout",
          "text": [
            "Colab only includes TensorFlow 2.x; %tensorflow_version has no effect.\n",
            "2.15.0\n"
          ]
        }
      ]
    },
    {
      "cell_type": "markdown",
      "metadata": {
        "id": "yR0EdgrLCaWR"
      },
      "source": [
        "## Импортируем Fashion MNIST датасет"
      ]
    },
    {
      "cell_type": "code",
      "metadata": {
        "id": "7MqDQO0KCaWS"
      },
      "source": [
        "from keras.datasets import fashion_mnist\n",
        "\n",
        "(train_images, train_labels), (test_images, test_labels) = fashion_mnist.load_data()\n",
        "\n",
        "# Normalize.\n",
        "train_images = (train_images / 255)\n",
        "test_images = (test_images / 255)\n"
      ],
      "execution_count": 70,
      "outputs": []
    },
    {
      "cell_type": "code",
      "source": [
        "plt.figure(figsize=(6,3))\n",
        "plt.subplot(1,2,1)\n",
        "plt.imshow(train_images[0], cmap='gray')\n",
        "plt.subplot(1,2,2)\n",
        "plt.imshow(train_images[1], cmap='gray')"
      ],
      "metadata": {
        "colab": {
          "base_uri": "https://localhost:8080/",
          "height": 290
        },
        "id": "Ov0xQn3iCSZm",
        "outputId": "870f4821-0957-40dd-898e-3cd6781e4131"
      },
      "execution_count": 71,
      "outputs": [
        {
          "output_type": "execute_result",
          "data": {
            "text/plain": [
              "<matplotlib.image.AxesImage at 0x7a71dcdcce50>"
            ]
          },
          "metadata": {},
          "execution_count": 71
        },
        {
          "output_type": "display_data",
          "data": {
            "text/plain": [
              "<Figure size 600x300 with 2 Axes>"
            ],
            "image/png": "[encoded data removed]"
          },
          "metadata": {}
        }
      ]
    },
    {
      "cell_type": "markdown",
      "metadata": {
        "id": "t9FDsUlxCaWW"
      },
      "source": [
        "Датасет содержит следующие классы:\n",
        "\n",
        "<table>\n",
        "  <tr>\n",
        "    <th>Label</th>\n",
        "    <th>Class</th>\n",
        "  </tr>\n",
        "  <tr>\n",
        "    <td>0</td>\n",
        "    <td>T-shirt/top</td>\n",
        "  </tr>\n",
        "  <tr>\n",
        "    <td>1</td>\n",
        "    <td>Trouser</td>\n",
        "  </tr>\n",
        "    <tr>\n",
        "    <td>2</td>\n",
        "    <td>Pullover</td>\n",
        "  </tr>\n",
        "    <tr>\n",
        "    <td>3</td>\n",
        "    <td>Dress</td>\n",
        "  </tr>\n",
        "    <tr>\n",
        "    <td>4</td>\n",
        "    <td>Coat</td>\n",
        "  </tr>\n",
        "    <tr>\n",
        "    <td>5</td>\n",
        "    <td>Sandal</td>\n",
        "  </tr>\n",
        "    <tr>\n",
        "    <td>6</td>\n",
        "    <td>Shirt</td>\n",
        "  </tr>\n",
        "    <tr>\n",
        "    <td>7</td>\n",
        "    <td>Sneaker</td>\n",
        "  </tr>\n",
        "    <tr>\n",
        "    <td>8</td>\n",
        "    <td>Bag</td>\n",
        "  </tr>\n",
        "    <tr>\n",
        "    <td>9</td>\n",
        "    <td>Ankle boot</td>\n",
        "  </tr>\n",
        "</table>\n",
        "\n",
        "Каждому классу обозначенному цифрой мы можем присвоить текстовое значение -"
      ]
    },
    {
      "cell_type": "code",
      "metadata": {
        "id": "IjnLH5S2CaWx"
      },
      "source": [
        "class_names = ['T-shirt/top', 'Trouser', 'Pullover', 'Dress', 'Coat',\n",
        "               'Sandal', 'Shirt', 'Sneaker', 'Bag', 'Ankle boot']"
      ],
      "execution_count": 72,
      "outputs": []
    },
    {
      "cell_type": "markdown",
      "metadata": {
        "id": "Wz7l27Lz9S1P"
      },
      "source": [
        "Для процесса обучения нейронной сети нам важно перевести данные из диапазона от 0 до 255 в диапазон от 0 до 1:"
      ]
    },
    {
      "cell_type": "markdown",
      "metadata": {
        "id": "Gxg1XGm0eOBy"
      },
      "source": [
        "### Определение слоев\n",
        "\n",
        "Давайте создадим 3 слоя нейронной сети с помощью функционала Keras.layers"
      ]
    },
    {
      "cell_type": "code",
      "source": [
        "model = keras.Sequential([\n",
        "    keras.layers.Flatten(input_shape=(28, 28), name='input'),\n",
        "    keras.layers.Dense(256, activation='relu', name='hiden_one'),\n",
        "    keras.layers.Dense(128, activation='relu', name='hiden_two'),\n",
        "    keras.layers.Dense(64, activation='relu', name='hiden_three'),\n",
        "    keras.layers.Dense(32, activation='relu', name='hiden_four'),\n",
        "    keras.layers.Dense(10, name='output')\n",
        "])\n",
        "config = model.get_config()\n",
        "model.save_weights('fashion_weights.h5')"
      ],
      "metadata": {
        "id": "ckcddyf_ARaB"
      },
      "execution_count": 73,
      "outputs": []
    },
    {
      "cell_type": "code",
      "metadata": {
        "id": "Lhan11blCaW7",
        "colab": {
          "base_uri": "https://localhost:8080/",
          "height": 536
        },
        "outputId": "2b677595-bcd3-4a9a-9b89-d529ad820b41"
      },
      "source": [
        "model = model.from_config(config)\n",
        "model.load_weights('fashion_weights.h5')\n",
        "\n",
        "\n",
        "model.compile(optimizer=tf.keras.optimizers.Adam(learning_rate=0.001), loss=tf.keras.losses.SparseCategoricalCrossentropy(from_logits=True), metrics=['accuracy'])\n",
        "model.fit(train_images, train_labels, batch_size = 250, epochs=25, verbose=0)\n",
        "  # model.fit(train_images, train_labels, batch_size = 250, epochs=el, verbose=0, validation_data=(test_images, test_labels))\n",
        "  # model.fit(train_images, train_labels, batch_size = 10, epochs=10, verbose=0, validation_data=(test_images, test_labels), callbacks=[reduce_lr])\n",
        "test_loss, test_acc = model.evaluate(test_images,  test_labels, verbose=2)\n",
        "\n",
        "print('\\nTest accuracy:', test_acc)\n",
        "  # Получим предсказания\n",
        "probability_model = tf.keras.Sequential([model,\n",
        "                                         tf.keras.layers.Softmax()])\n",
        "predictions = probability_model.predict(test_images)\n",
        "y_pred = np.argmax(predictions, axis=1)\n",
        "# Посмотрим на результаты\n",
        "ConfusionMatrixDisplay.from_predictions(test_labels, y_pred)"
      ],
      "execution_count": 74,
      "outputs": [
        {
          "output_type": "stream",
          "name": "stdout",
          "text": [
            "313/313 - 1s - loss: 0.3493 - accuracy: 0.8916 - 705ms/epoch - 2ms/step\n",
            "\n",
            "Test accuracy: 0.8916000127792358\n",
            "313/313 [==============================] - 1s 2ms/step\n"
          ]
        },
        {
          "output_type": "execute_result",
          "data": {
            "text/plain": [
              "<sklearn.metrics._plot.confusion_matrix.ConfusionMatrixDisplay at 0x7a71e371bb50>"
            ]
          },
          "metadata": {},
          "execution_count": 74
        },
        {
          "output_type": "display_data",
          "data": {
            "text/plain": [
              "<Figure size 640x480 with 2 Axes>"
            ],
            "image/png": "[encoded data removed]"
          },
          "metadata": {}
        }
      ]
    },
    {
      "cell_type": "code",
      "source": [
        "def recall_precision(y_true, y_pred, labels=[0, 1, 2, 3, 4, 5, 6, 7, 8, 9]):\n",
        "  precision = precision_score(y_true, y_pred, labels=labels, average=None)\n",
        "  recall = recall_score(y_true, y_pred, labels=labels, average=None)\n",
        "  for i, el in enumerate(zip(precision, recall)):\n",
        "    print(f'Класс - {i}, точность - {el[0]:.3f}, полнота - {el[1]:.3f}')"
      ],
      "metadata": {
        "id": "XtlOdBOW-2IH"
      },
      "execution_count": 75,
      "outputs": []
    },
    {
      "cell_type": "code",
      "source": [
        "recall_precision(test_labels, y_pred)"
      ],
      "metadata": {
        "colab": {
          "base_uri": "https://localhost:8080/"
        },
        "id": "wAUIx35VDK0y",
        "outputId": "c2524d58-38e0-48a0-d045-97ac8b4c08f9"
      },
      "execution_count": 76,
      "outputs": [
        {
          "output_type": "stream",
          "name": "stdout",
          "text": [
            "Класс - 0, точность - 0.855, полнота - 0.829\n",
            "Класс - 1, точность - 0.988, полнота - 0.977\n",
            "Класс - 2, точность - 0.830, полнота - 0.808\n",
            "Класс - 3, точность - 0.899, полнота - 0.884\n",
            "Класс - 4, точность - 0.799, полнота - 0.833\n",
            "Класс - 5, точность - 0.993, полнота - 0.941\n",
            "Класс - 6, точность - 0.708, полнота - 0.743\n",
            "Класс - 7, точность - 0.944, полнота - 0.955\n",
            "Класс - 8, точность - 0.979, полнота - 0.966\n",
            "Класс - 9, точность - 0.939, полнота - 0.980\n"
          ]
        }
      ]
    },
    {
      "cell_type": "markdown",
      "source": [
        "После теста этих параметров нейросети, созданной на уроке, особого улучшить модель неполучилось"
      ],
      "metadata": {
        "id": "2ApaTraTD5Fr"
      }
    },
    {
      "cell_type": "markdown",
      "source": [
        "Нашелся Keras-tuner, для пербора парваметров, чтобы непариться вручную."
      ],
      "metadata": {
        "id": "7iIdVVXIJQcR"
      }
    },
    {
      "cell_type": "code",
      "metadata": {
        "id": "Sd62W3GOQtKU"
      },
      "source": [
        "def build_model(hp):\n",
        "    model = Sequential()\n",
        "    activation_choice = hp.Choice('activation', values=['relu', 'sigmoid', 'tanh', 'elu', 'selu'])\n",
        "    model.add(Dense(units=hp.Int('units_input',    # Полносвязный слой с разным количеством нейронов\n",
        "                                   min_value=512,    # минимальное количество нейронов - 128\n",
        "                                   max_value=1024,   # максимальное количество - 1024\n",
        "                                   step=32),\n",
        "                    input_dim=784,\n",
        "                    activation=activation_choice))\n",
        "    for i in range(1, hp.Int(\"num_layers\", 2, 6)):\n",
        "            model.add(Dense(units=hp.Int('units_input',    # Полносвязный слой с разным количеством нейронов\n",
        "                                   min_value=512,    # минимальное количество нейронов - 128\n",
        "                                   max_value=1024,   # максимальное количество - 1024\n",
        "                                   step=32),\n",
        "                    activation=activation_choice))\n",
        "    model.add(Dense(10, activation='softmax'))\n",
        "    model.compile(\n",
        "        optimizer=hp.Choice('optimizer', values=['adam','rmsprop','SGD']),\n",
        "        loss='categorical_crossentropy',\n",
        "        metrics=['accuracy'])\n",
        "    return model"
      ],
      "execution_count": 77,
      "outputs": []
    },
    {
      "cell_type": "markdown",
      "source": [],
      "metadata": {
        "id": "W18ks6koyO2A"
      }
    },
    {
      "cell_type": "markdown",
      "source": [],
      "metadata": {
        "id": "uHT-vhKQKFWR"
      }
    },
    {
      "cell_type": "markdown",
      "metadata": {
        "id": "xiurjCBVMDTG"
      },
      "source": [
        "## Подготовка данных для обучения сети"
      ]
    },
    {
      "cell_type": "code",
      "metadata": {
        "id": "E5L3LUIi8PDV"
      },
      "source": [
        "(x_train, y_train), (x_test, y_test) = fashion_mnist.load_data()"
      ],
      "execution_count": 78,
      "outputs": []
    },
    {
      "cell_type": "code",
      "metadata": {
        "id": "6Z52YG_1kXbi"
      },
      "source": [
        "x_train = x_train.reshape(60000, 784)\n",
        "x_test = x_test.reshape(10000, 784)\n",
        "x_train = x_train / 255\n",
        "x_test = x_test / 255\n",
        "y_train = utils.to_categorical(y_train, 10)\n",
        "y_test = utils.to_categorical(y_test, 10)"
      ],
      "execution_count": 79,
      "outputs": []
    },
    {
      "cell_type": "markdown",
      "metadata": {
        "id": "lFw-0sZsmFOJ"
      },
      "source": [
        "## Создаем tuner\n",
        "\n",
        "Доступные типы тюнеров:\n",
        "- RandomSearch - случайный поиск.\n",
        "- Hyperband - алгоритм оптимизации на основе многорукого бандита, Li, Lisha, and Kevin Jamieson.\n",
        "- BayesianOptimization - байесовская оптимизация"
      ]
    },
    {
      "cell_type": "code",
      "metadata": {
        "id": "OZwA47cOQz4b",
        "colab": {
          "base_uri": "https://localhost:8080/"
        },
        "outputId": "e24ab74c-9b84-43ea-d38c-404094123dca"
      },
      "source": [
        "tuner = BayesianOptimization(\n",
        "    build_model,                 # функция создания модели\n",
        "    objective='val_accuracy',    # метрика, которую нужно оптимизировать -\n",
        "                                 # доля правильных ответов на проверочном наборе данных\n",
        "    max_trials=100,               # максимальное количество запусков обучения\n",
        "    directory='test_directory'   # каталог, куда сохраняются обученные сети\n",
        "    )"
      ],
      "execution_count": 80,
      "outputs": [
        {
          "output_type": "stream",
          "name": "stdout",
          "text": [
            "Reloading Tuner from test_directory/untitled_project/tuner0.json\n"
          ]
        }
      ]
    },
    {
      "cell_type": "markdown",
      "metadata": {
        "id": "-znOiwDZB1C5"
      },
      "source": [
        "## Подбор гиперпараметров"
      ]
    },
    {
      "cell_type": "code",
      "metadata": {
        "id": "NEFHVKDBB-Z9",
        "colab": {
          "base_uri": "https://localhost:8080/"
        },
        "outputId": "f9160499-eead-49fd-cb37-cd596f529605"
      },
      "source": [
        "tuner.search(x_train,                  # Данные для обучения\n",
        "             y_train,                  # Правильные ответы\n",
        "             batch_size=256,           # Размер мини-выборки\n",
        "             epochs=20,                # Количество эпох обучения\n",
        "             validation_split=0.2,     # Часть данных, которая будет использоваться для проверки\n",
        "             )"
      ],
      "execution_count": 81,
      "outputs": [
        {
          "output_type": "stream",
          "name": "stdout",
          "text": [
            "Trial 100 Complete [00h 00m 30s]\n",
            "val_accuracy: 0.8843333125114441\n",
            "\n",
            "Best val_accuracy So Far: 0.9000833630561829\n",
            "Total elapsed time: 01h 02m 16s\n"
          ]
        }
      ]
    },
    {
      "cell_type": "markdown",
      "metadata": {
        "id": "KlPTC0r3pLyB"
      },
      "source": [
        "## Выбираем лучшую модель"
      ]
    },
    {
      "cell_type": "code",
      "metadata": {
        "id": "31_zCfjqQVL6"
      },
      "source": [
        "models = tuner.get_best_models(num_models=2)"
      ],
      "execution_count": 82,
      "outputs": []
    },
    {
      "cell_type": "markdown",
      "metadata": {
        "id": "Oje7bSQppVkF"
      },
      "source": [
        "Оцениваем качество модели на тестовых данных"
      ]
    },
    {
      "cell_type": "code",
      "metadata": {
        "id": "CUoo7iM-bBht",
        "colab": {
          "base_uri": "https://localhost:8080/"
        },
        "outputId": "d4dac686-0f55-43e4-edbd-4b64383d63fd"
      },
      "source": [
        "for model in models:\n",
        "  model.summary()\n",
        "  model.evaluate(x_test, y_test)\n",
        "  print()"
      ],
      "execution_count": 83,
      "outputs": [
        {
          "output_type": "stream",
          "name": "stdout",
          "text": [
            "Model: \"sequential\"\n",
            "_________________________________________________________________\n",
            " Layer (type)                Output Shape              Param #   \n",
            "=================================================================\n",
            " dense (Dense)               (None, 672)               527520    \n",
            "                                                                 \n",
            " dense_1 (Dense)             (None, 672)               452256    \n",
            "                                                                 \n",
            " dense_2 (Dense)             (None, 10)                6730      \n",
            "                                                                 \n",
            "=================================================================\n",
            "Total params: 986506 (3.76 MB)\n",
            "Trainable params: 986506 (3.76 MB)\n",
            "Non-trainable params: 0 (0.00 Byte)\n",
            "_________________________________________________________________\n",
            "313/313 [==============================] - 1s 3ms/step - loss: 0.3527 - accuracy: 0.8915\n",
            "\n",
            "Model: \"sequential\"\n",
            "_________________________________________________________________\n",
            " Layer (type)                Output Shape              Param #   \n",
            "=================================================================\n",
            " dense (Dense)               (None, 640)               502400    \n",
            "                                                                 \n",
            " dense_1 (Dense)             (None, 640)               410240    \n",
            "                                                                 \n",
            " dense_2 (Dense)             (None, 10)                6410      \n",
            "                                                                 \n",
            "=================================================================\n",
            "Total params: 919050 (3.51 MB)\n",
            "Trainable params: 919050 (3.51 MB)\n",
            "Non-trainable params: 0 (0.00 Byte)\n",
            "_________________________________________________________________\n",
            "313/313 [==============================] - 1s 3ms/step - loss: 0.3683 - accuracy: 0.8937\n",
            "\n"
          ]
        }
      ]
    },
    {
      "cell_type": "markdown",
      "source": [
        "Тесты показали, что модель - слой(640 неройнов) - слой(640 неройнов) -слой(10 неройнов) , показала лучшую точность на тестовых данных 0.8937\n",
        "\n",
        "---\n",
        "\n"
      ],
      "metadata": {
        "id": "T-VZUEf-XKpO"
      }
    },
    {
      "cell_type": "code",
      "source": [],
      "metadata": {
        "id": "7k68O7ytXYnR"
      },
      "execution_count": null,
      "outputs": []
    }
  ]
}